{
 "cells": [
  {
   "cell_type": "code",
   "execution_count": 1,
   "metadata": {},
   "outputs": [],
   "source": [
    "import retrieval_tree as rt\n",
    "import random"
   ]
  },
  {
   "cell_type": "code",
   "execution_count": 2,
   "metadata": {},
   "outputs": [
    {
     "name": "stdout",
     "output_type": "stream",
     "text": [
      "CAGAATTGCACCAACTCGAATGCGCCCACGACGTTTATCGCATTCCGGGAATGGTTGCGGTCAGAATTATCTATCTAATAAGTGTCTTAGGATAGCTTGG\n"
     ]
    }
   ],
   "source": [
    "alphabet = ['A', 'C', 'G', 'T']\n",
    "n = 100\n",
    "seq = ''\n",
    "for i in range(n):\n",
    "    seq += random.choice(alphabet)\n",
    "print(seq)"
   ]
  },
  {
   "cell_type": "code",
   "execution_count": 3,
   "metadata": {},
   "outputs": [
    {
     "name": "stdout",
     "output_type": "stream",
     "text": [
      "{'C': [[0], [8], [10], [11], [14], [16], [22], [24], [25], [26], [28], [31], [38], [40], [44], [45], [57], [61], [70], [74], [85], [95]], 'A': [[1], [3], [4], [9], [12], [13], [18], [19], [27], [30], [36], [41], [49], [50], [62], [64], [65], [68], [72], [76], [77], [79], [80], [88], [91], [93]], 'G': [[2], [7], [17], [21], [23], [29], [32], [39], [46], [47], [48], [52], [53], [56], [58], [59], [63], [81], [83], [89], [90], [94], [98], [99]], 'T': [[5], [6], [15], [20], [33], [34], [35], [37], [42], [43], [51], [54], [55], [60], [66], [67], [69], [71], [73], [75], [78], [82], [84], [86], [87], [92], [96], [97]]}\n"
     ]
    }
   ],
   "source": [
    "roots = rt._init(seq, alphabet)\n",
    "print(roots)"
   ]
  },
  {
   "cell_type": "code",
   "execution_count": 4,
   "metadata": {},
   "outputs": [
    {
     "name": "stdout",
     "output_type": "stream",
     "text": [
      "{'AG': [[1, 2], [62, 63], [80, 81], [88, 89], [93, 94]], 'AA': [[3, 4], [12, 13], [18, 19], [49, 50], [64, 65], [76, 77], [79, 80]], 'AT': [[4, 5], [19, 20], [36, 37], [41, 42], [50, 51], [65, 66], [68, 69], [72, 73], [77, 78], [91, 92]], 'AC': [[9, 10], [13, 14], [27, 28], [30, 31]]}\n"
     ]
    }
   ],
   "source": [
    "subseq = 'A'\n",
    "index_seqs = roots[subseq]\n",
    "ind_seq = index_seqs[0]\n",
    "leaves = rt._recursion(seq, subseq, index_seqs, alphabet)\n",
    "print(leaves)"
   ]
  },
  {
   "cell_type": "code",
   "execution_count": 5,
   "metadata": {},
   "outputs": [
    {
     "name": "stdout",
     "output_type": "stream",
     "text": [
      "{'ATT': [[4, 5, 6], [41, 42, 43], [65, 66, 67]], 'ATG': [[19, 20, 21], [50, 51, 52]], 'ATC': [[36, 37, 38], [68, 69, 70], [72, 73, 74]], 'ATA': [[77, 78, 79], [91, 92, 93]]}\n"
     ]
    }
   ],
   "source": [
    "subseq = 'AT'\n",
    "index_seqs = leaves[subseq]\n",
    "ind_seq = index_seqs[0]\n",
    "leaves2 = rt._recursion(seq, subseq, index_seqs, alphabet)\n",
    "print(leaves2)"
   ]
  },
  {
   "cell_type": "code",
   "execution_count": 6,
   "metadata": {},
   "outputs": [
    {
     "ename": "RuntimeError",
     "evalue": "dictionary changed size during iteration",
     "output_type": "error",
     "traceback": [
      "\u001b[0;31m---------------------------------------------------------------------------\u001b[0m",
      "\u001b[0;31mRuntimeError\u001b[0m                              Traceback (most recent call last)",
      "\u001b[0;32m<ipython-input-6-37cdb0b57dfa>\u001b[0m in \u001b[0;36m<module>\u001b[0;34m()\u001b[0m\n\u001b[0;32m----> 1\u001b[0;31m \u001b[0mtree\u001b[0m \u001b[0;34m=\u001b[0m \u001b[0mrt\u001b[0m\u001b[0;34m.\u001b[0m\u001b[0mtrie\u001b[0m\u001b[0;34m(\u001b[0m\u001b[0mseq\u001b[0m\u001b[0;34m,\u001b[0m \u001b[0;36m5\u001b[0m\u001b[0;34m)\u001b[0m\u001b[0;34m\u001b[0m\u001b[0;34m\u001b[0m\u001b[0m\n\u001b[0m\u001b[1;32m      2\u001b[0m \u001b[0mprint\u001b[0m\u001b[0;34m(\u001b[0m\u001b[0mtree\u001b[0m\u001b[0;34m)\u001b[0m\u001b[0;34m\u001b[0m\u001b[0;34m\u001b[0m\u001b[0m\n",
      "\u001b[0;32m/home/letermeh/Documents/Cours/9 Advanced Learning Models/Kaggle_competition/ALM-data-challenge/retrieval_tree.py\u001b[0m in \u001b[0;36mtrie\u001b[0;34m(seq, k_max, alphabet)\u001b[0m\n\u001b[1;32m     15\u001b[0m         \u001b[0mparents\u001b[0m \u001b[0;34m=\u001b[0m \u001b[0mtree\u001b[0m\u001b[0;34m[\u001b[0m\u001b[0mk\u001b[0m\u001b[0;34m]\u001b[0m\u001b[0;34m\u001b[0m\u001b[0;34m\u001b[0m\u001b[0m\n\u001b[1;32m     16\u001b[0m         \u001b[0mtree\u001b[0m\u001b[0;34m.\u001b[0m\u001b[0mappend\u001b[0m\u001b[0;34m(\u001b[0m\u001b[0mdict\u001b[0m\u001b[0;34m(\u001b[0m\u001b[0;34m)\u001b[0m\u001b[0;34m)\u001b[0m \u001b[0;31m# New dictionary, will be updated with respect to subsequences previously spotted\u001b[0m\u001b[0;34m\u001b[0m\u001b[0;34m\u001b[0m\u001b[0m\n\u001b[0;32m---> 17\u001b[0;31m         \u001b[0;32mfor\u001b[0m \u001b[0msubseq\u001b[0m \u001b[0;32min\u001b[0m \u001b[0mparents\u001b[0m\u001b[0;34m:\u001b[0m\u001b[0;34m\u001b[0m\u001b[0;34m\u001b[0m\u001b[0m\n\u001b[0m\u001b[1;32m     18\u001b[0m             \u001b[0mindex_seqs\u001b[0m \u001b[0;34m=\u001b[0m \u001b[0mtree\u001b[0m\u001b[0;34m[\u001b[0m\u001b[0mk\u001b[0m\u001b[0;34m]\u001b[0m\u001b[0;34m[\u001b[0m\u001b[0msubseq\u001b[0m\u001b[0;34m]\u001b[0m \u001b[0;31m# Sequences of indices for a given DNA subsequence\u001b[0m\u001b[0;34m\u001b[0m\u001b[0;34m\u001b[0m\u001b[0m\n\u001b[1;32m     19\u001b[0m             \u001b[0mtree\u001b[0m\u001b[0;34m[\u001b[0m\u001b[0mk\u001b[0m\u001b[0;34m]\u001b[0m\u001b[0;34m.\u001b[0m\u001b[0mupdate\u001b[0m\u001b[0;34m(\u001b[0m\u001b[0m_recursion\u001b[0m\u001b[0;34m(\u001b[0m\u001b[0mseq\u001b[0m\u001b[0;34m,\u001b[0m \u001b[0msubseq\u001b[0m\u001b[0;34m,\u001b[0m \u001b[0mindex_seqs\u001b[0m\u001b[0;34m,\u001b[0m \u001b[0malphabet\u001b[0m\u001b[0;34m)\u001b[0m\u001b[0;34m)\u001b[0m\u001b[0;34m\u001b[0m\u001b[0;34m\u001b[0m\u001b[0m\n",
      "\u001b[0;31mRuntimeError\u001b[0m: dictionary changed size during iteration"
     ]
    }
   ],
   "source": [
    "tree = rt.trie(seq, 5)\n",
    "print(tree)"
   ]
  }
 ],
 "metadata": {
  "kernelspec": {
   "display_name": "Python 3",
   "language": "python",
   "name": "python3"
  },
  "language_info": {
   "codemirror_mode": {
    "name": "ipython",
    "version": 3
   },
   "file_extension": ".py",
   "mimetype": "text/x-python",
   "name": "python",
   "nbconvert_exporter": "python",
   "pygments_lexer": "ipython3",
   "version": "3.6.7"
  }
 },
 "nbformat": 4,
 "nbformat_minor": 2
}
