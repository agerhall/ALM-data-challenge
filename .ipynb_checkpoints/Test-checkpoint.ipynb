{
 "cells": [
  {
   "cell_type": "code",
   "execution_count": 1,
   "metadata": {},
   "outputs": [],
   "source": [
    "import retrieval_tree as rt\n",
    "import random"
   ]
  },
  {
   "cell_type": "code",
   "execution_count": 2,
   "metadata": {},
   "outputs": [
    {
     "name": "stdout",
     "output_type": "stream",
     "text": [
      "GCGCACTCTGGACCTACATTTTCTGTAGACAGAATGGTTGTGGCCGACCACTGAGCTATTTGTGCGTCAAGTGCTCCGCTGACTTAGTGCTTCTCTCACT\n"
     ]
    }
   ],
   "source": [
    "alphabet = ['A', 'C', 'G', 'T']\n",
    "n = 100\n",
    "seq = ''\n",
    "for i in range(n):\n",
    "    seq += random.choice(alphabet)\n",
    "print(seq)"
   ]
  },
  {
   "cell_type": "code",
   "execution_count": 3,
   "metadata": {},
   "outputs": [
    {
     "name": "stdout",
     "output_type": "stream",
     "text": [
      "{'G': [[0], [2], [9], [10], [24], [27], [31], [35], [36], [39], [41], [42], [45], [52], [54], [61], [63], [65], [70], [72], [77], [80], [86], [88]], 'C': [[1], [3], [5], [7], [12], [13], [16], [22], [29], [43], [44], [47], [48], [50], [55], [64], [67], [73], [75], [76], [78], [82], [89], [92], [94], [96], [98]], 'A': [[4], [11], [15], [17], [26], [28], [30], [32], [33], [46], [49], [53], [57], [68], [69], [81], [85], [97]], 'T': [[6], [8], [14], [18], [19], [20], [21], [23], [25], [34], [37], [38], [40], [51], [56], [58], [59], [60], [62], [66], [71], [74], [79], [83], [84], [87], [90], [91], [93], [95], [99]]}\n"
     ]
    }
   ],
   "source": [
    "roots = rt._init(seq, alphabet)\n",
    "print(roots)"
   ]
  },
  {
   "cell_type": "code",
   "execution_count": 8,
   "metadata": {},
   "outputs": [
    {
     "ename": "TypeError",
     "evalue": "'builtin_function_or_method' object is not subscriptable",
     "output_type": "error",
     "traceback": [
      "\u001b[0;31m---------------------------------------------------------------------------\u001b[0m",
      "\u001b[0;31mTypeError\u001b[0m                                 Traceback (most recent call last)",
      "\u001b[0;32m<ipython-input-8-512d49bce4cf>\u001b[0m in \u001b[0;36m<module>\u001b[0;34m()\u001b[0m\n\u001b[1;32m      2\u001b[0m \u001b[0mindex_seqs\u001b[0m \u001b[0;34m=\u001b[0m \u001b[0mroots\u001b[0m\u001b[0;34m[\u001b[0m\u001b[0msubseq\u001b[0m\u001b[0;34m]\u001b[0m\u001b[0;34m\u001b[0m\u001b[0;34m\u001b[0m\u001b[0m\n\u001b[1;32m      3\u001b[0m \u001b[0mind_seq\u001b[0m \u001b[0;34m=\u001b[0m \u001b[0mindex_seqs\u001b[0m\u001b[0;34m[\u001b[0m\u001b[0;36m0\u001b[0m\u001b[0;34m]\u001b[0m\u001b[0;34m\u001b[0m\u001b[0;34m\u001b[0m\u001b[0m\n\u001b[0;32m----> 4\u001b[0;31m \u001b[0mprint\u001b[0m\u001b[0;34m(\u001b[0m\u001b[0mind_seq\u001b[0m\u001b[0;34m[\u001b[0m\u001b[0mlen\u001b[0m\u001b[0;34m[\u001b[0m\u001b[0mind_seq\u001b[0m\u001b[0;34m]\u001b[0m\u001b[0;34m-\u001b[0m\u001b[0;36m1\u001b[0m\u001b[0;34m]\u001b[0m\u001b[0;34m)\u001b[0m\u001b[0;34m\u001b[0m\u001b[0;34m\u001b[0m\u001b[0m\n\u001b[0m\u001b[1;32m      5\u001b[0m \u001b[0;31m#leaves = rt._recursion(seq, subseq, index_seqs, alphabet)\u001b[0m\u001b[0;34m\u001b[0m\u001b[0;34m\u001b[0m\u001b[0;34m\u001b[0m\u001b[0m\n\u001b[1;32m      6\u001b[0m \u001b[0;31m#print(leaves)\u001b[0m\u001b[0;34m\u001b[0m\u001b[0;34m\u001b[0m\u001b[0;34m\u001b[0m\u001b[0m\n",
      "\u001b[0;31mTypeError\u001b[0m: 'builtin_function_or_method' object is not subscriptable"
     ]
    }
   ],
   "source": [
    "subseq = 'A'\n",
    "index_seqs = roots[subseq]\n",
    "ind_seq = index_seqs[0]\n",
    "leaves = rt._recursion(seq, subseq, index_seqs, alphabet)\n",
    "print(leaves)"
   ]
  }
 ],
 "metadata": {
  "kernelspec": {
   "display_name": "Python 3",
   "language": "python",
   "name": "python3"
  },
  "language_info": {
   "codemirror_mode": {
    "name": "ipython",
    "version": 3
   },
   "file_extension": ".py",
   "mimetype": "text/x-python",
   "name": "python",
   "nbconvert_exporter": "python",
   "pygments_lexer": "ipython3",
   "version": "3.6.7"
  }
 },
 "nbformat": 4,
 "nbformat_minor": 2
}
